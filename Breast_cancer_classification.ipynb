{
  "nbformat": 4,
  "nbformat_minor": 0,
  "metadata": {
    "colab": {
      "name": "Breast cancer classification.ipynb",
      "provenance": [],
      "authorship_tag": "ABX9TyPIKFUxApj5eeDc6D7N3GyG",
      "include_colab_link": true
    },
    "kernelspec": {
      "name": "python3",
      "display_name": "Python 3"
    },
    "language_info": {
      "name": "python"
    }
  },
  "cells": [
    {
      "cell_type": "markdown",
      "metadata": {
        "id": "view-in-github",
        "colab_type": "text"
      },
      "source": [
        "<a href=\"https://colab.research.google.com/github/aryanosho/tip3p-tip4p-fb/blob/master/Breast_cancer_classification.ipynb\" target=\"_parent\"><img src=\"https://colab.research.google.com/assets/colab-badge.svg\" alt=\"Open In Colab\"/></a>"
      ]
    },
    {
      "cell_type": "markdown",
      "metadata": {
        "id": "sTF_VtMFCMfZ"
      },
      "source": [
        "# Importing libraries"
      ]
    },
    {
      "cell_type": "code",
      "metadata": {
        "id": "5ClHesRPwM3J"
      },
      "source": [
        "import numpy as np\n",
        "import pandas as pd\n",
        "import matplotlib.pyplot as plt\n",
        "from sklearn.datasets import load_breast_cancer\n"
      ],
      "execution_count": 55,
      "outputs": []
    },
    {
      "cell_type": "markdown",
      "metadata": {
        "id": "ifl0Cf5bCHN6"
      },
      "source": [
        "#Loading data"
      ]
    },
    {
      "cell_type": "code",
      "metadata": {
        "id": "jvIbYgvNASBG"
      },
      "source": [
        "cancer_data=load_breast_cancer()\n",
        "Target=cancer_data.target_names"
      ],
      "execution_count": 56,
      "outputs": []
    },
    {
      "cell_type": "code",
      "metadata": {
        "colab": {
          "base_uri": "https://localhost:8080/"
        },
        "id": "BRx7BDddI4Ki",
        "outputId": "25ef216c-d020-44a9-d2d9-a42008bc23e7"
      },
      "source": [
        "X=pd.DataFrame(cancer_data.data,columns=cancer_data.feature_names)\n",
        "y=pd.DataFrame(cancer_data.target,columns=['type'])\n",
        "print(X.shape)\n",
        "print(y.shape)\n"
      ],
      "execution_count": 67,
      "outputs": [
        {
          "output_type": "stream",
          "text": [
            "(569, 30)\n",
            "(569, 1)\n"
          ],
          "name": "stdout"
        }
      ]
    },
    {
      "cell_type": "markdown",
      "metadata": {
        "id": "YDzWaYd3Zlcl"
      },
      "source": [
        "#Splitting data"
      ]
    },
    {
      "cell_type": "code",
      "metadata": {
        "colab": {
          "base_uri": "https://localhost:8080/"
        },
        "id": "YntdMLHvCFkW",
        "outputId": "d545f67d-763b-4c87-f1f6-dbddec662d9c"
      },
      "source": [
        "from sklearn.model_selection import train_test_split\n",
        "xtrain,xtest,ytrain,ytest=train_test_split(X,np.ravel(y),test_size=0.2,random_state=11)\n",
        "print(xtrain.shape)\n",
        "print(xtest.shape)\n"
      ],
      "execution_count": 69,
      "outputs": [
        {
          "output_type": "stream",
          "text": [
            "(455, 30)\n",
            "(114, 30)\n"
          ],
          "name": "stdout"
        }
      ]
    },
    {
      "cell_type": "markdown",
      "metadata": {
        "id": "5z8PKypdaVm2"
      },
      "source": [
        "#Model selection and training "
      ]
    },
    {
      "cell_type": "code",
      "metadata": {
        "colab": {
          "base_uri": "https://localhost:8080/"
        },
        "id": "VjfFY4xmDtZN",
        "outputId": "adf7d16a-16b4-455d-ab80-72cd4c39e12a"
      },
      "source": [
        "from sklearn.svm import SVC\n",
        "from sklearn.metrics import accuracy_score\n",
        "from sklearn.metrics import confusion_matrix\n",
        "model= SVC()                           #No hyper parameter tuning\n",
        "model.fit(xtrain,ytrain)\n",
        "pred=model.predict(xtest)\n",
        "print(accuracy_score(ytest,pred))\n",
        "print(confusion_matrix(ytest,pred))\n",
        "\n",
        "\n"
      ],
      "execution_count": 74,
      "outputs": [
        {
          "output_type": "stream",
          "text": [
            "0.9298245614035088\n",
            "[[30  8]\n",
            " [ 0 76]]\n"
          ],
          "name": "stdout"
        }
      ]
    },
    {
      "cell_type": "markdown",
      "metadata": {
        "id": "NtTxCClmalPn"
      },
      "source": [
        "#Hyper parameter tuning"
      ]
    },
    {
      "cell_type": "code",
      "metadata": {
        "colab": {
          "base_uri": "https://localhost:8080/"
        },
        "id": "ZVUIgxuoajxo",
        "outputId": "9c042363-ffe5-4458-aa90-f05be93975eb"
      },
      "source": [
        "from sklearn.model_selection import GridSearchCV\n",
        "p = [{'kernel':['linear'],'C': [0.01,0.1, 10]}, \n",
        "            {'kernel': ['rbf'],  'gamma': [0.0001,0.001,0.01,0.1,1,10]}] \n",
        "  \n",
        "grid = GridSearchCV(SVC(), param_grid=p)\n",
        "grid.fit(xtrain, ytrain)\n",
        "print(grid.best_params_)"
      ],
      "execution_count": 80,
      "outputs": [
        {
          "output_type": "stream",
          "text": [
            "{'C': 0.1, 'kernel': 'linear'}\n"
          ],
          "name": "stdout"
        }
      ]
    },
    {
      "cell_type": "markdown",
      "metadata": {
        "id": "36iEN0kpe6ab"
      },
      "source": [
        "# Prediction using tuned model"
      ]
    },
    {
      "cell_type": "code",
      "metadata": {
        "colab": {
          "base_uri": "https://localhost:8080/"
        },
        "id": "ViiqcNnMYKxe",
        "outputId": "522f7fe0-71a3-4339-ee88-e711a994c6fd"
      },
      "source": [
        "print(grid.best_score_)\n",
        "pred=grid.predict(xtest)\n",
        "from sklearn.metrics import accuracy_score\n",
        "print(accuracy_score(ytest,pred))"
      ],
      "execution_count": 81,
      "outputs": [
        {
          "output_type": "stream",
          "text": [
            "0.9494505494505494\n",
            "0.9385964912280702\n",
            "[[33  5]\n",
            " [ 2 74]]\n"
          ],
          "name": "stdout"
        }
      ]
    }
  ]
}